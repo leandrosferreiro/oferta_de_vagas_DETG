{
 "cells": [
  {
   "cell_type": "code",
   "execution_count": 58,
   "metadata": {
    "id": "n9-WViKnx-vl"
   },
   "outputs": [],
   "source": [
    "#Importa as bibliotecas\n",
    "import pandas as pd\n",
    "from matplotlib import pyplot as plt\n",
    "import seaborn as sns"
   ]
  },
  {
   "cell_type": "code",
   "execution_count": 59,
   "metadata": {},
   "outputs": [],
   "source": [
    "#Instala o xlrd (descomente a linha abaixo caso seja necessário instalar o xlrd)\n",
    "#!pip install xlrd"
   ]
  },
  {
   "cell_type": "markdown",
   "metadata": {
    "id": "9MsKP0Has4B6"
   },
   "source": [
    "# Ler as bases de dados referente a oferta de vagas em disciplinas do DETG para o período de 2019-1 a 2024-1"
   ]
  },
  {
   "cell_type": "code",
   "execution_count": 61,
   "metadata": {
    "id": "WjQIYdZV3ndN"
   },
   "outputs": [],
   "source": [
    "detg20191 = pd.read_excel('bases/Oferta20191.xls')"
   ]
  },
  {
   "cell_type": "code",
   "execution_count": 62,
   "metadata": {
    "id": "6Oy7fGAo3zal"
   },
   "outputs": [],
   "source": [
    "detg20192 = pd.read_excel('bases/Oferta20192.xls')"
   ]
  },
  {
   "cell_type": "code",
   "execution_count": 63,
   "metadata": {
    "id": "IPLWQ5o5307N"
   },
   "outputs": [],
   "source": [
    "detg20201 = pd.read_excel('bases/Oferta20201.xls')"
   ]
  },
  {
   "cell_type": "code",
   "execution_count": 64,
   "metadata": {
    "id": "fdKhsvwIAMoz"
   },
   "outputs": [],
   "source": [
    "detg20211 = pd.read_excel('bases/Oferta20211.xls')"
   ]
  },
  {
   "cell_type": "code",
   "execution_count": 65,
   "metadata": {
    "id": "yDktaj4iAimr"
   },
   "outputs": [],
   "source": [
    "detg20212 = pd.read_excel('bases/Oferta20212.xls')"
   ]
  },
  {
   "cell_type": "code",
   "execution_count": 66,
   "metadata": {
    "id": "XBW3a64im_Jl"
   },
   "outputs": [],
   "source": [
    "detg20221 = pd.read_excel('bases/Oferta20221.xls')"
   ]
  },
  {
   "cell_type": "code",
   "execution_count": 67,
   "metadata": {
    "id": "fHeDG7lEoVTD"
   },
   "outputs": [],
   "source": [
    "detg20222 = pd.read_excel('bases/Oferta20222.xls')"
   ]
  },
  {
   "cell_type": "code",
   "execution_count": 68,
   "metadata": {
    "id": "5CKx8Clrm-6f"
   },
   "outputs": [],
   "source": [
    "detg20231 = pd.read_excel('bases/Oferta20231.xls')"
   ]
  },
  {
   "cell_type": "code",
   "execution_count": 69,
   "metadata": {
    "id": "aJfEWhxwm-ix"
   },
   "outputs": [],
   "source": [
    "detg20232 = pd.read_excel('bases/Oferta20232.xls')"
   ]
  },
  {
   "cell_type": "code",
   "execution_count": 70,
   "metadata": {
    "id": "JmVwyS_2m-DF"
   },
   "outputs": [],
   "source": [
    "detg20241 = pd.read_excel('bases/Oferta20241.xls')\n"
   ]
  },
  {
   "cell_type": "markdown",
   "metadata": {},
   "source": [
    "# Cria um dataframe com as salas de aulas da Escola Politécnica da UFBA"
   ]
  },
  {
   "cell_type": "code",
   "execution_count": 72,
   "metadata": {
    "id": "YorP63dHm9Qf"
   },
   "outputs": [],
   "source": [
    "salas = pd.DataFrame({'Salas': [30101, 30102, 30306, 40124, 50102, 50103, 50104, 60302, 60303, 60304, 70101, 70102, 70103, 70104, 70105, 70106, 70107, 70108, 70302, 70303, 70304, 70305, 70306, 70307, 80301, 80302, 80303, 80304]})"
   ]
  },
  {
   "cell_type": "markdown",
   "metadata": {},
   "source": [
    "# Cria um dataframe com os laboratórios da Escola Politécnica da UFBA disponibilizados para aulas "
   ]
  },
  {
   "cell_type": "code",
   "execution_count": 74,
   "metadata": {
    "id": "ERoq8FPeD5XH"
   },
   "outputs": [],
   "source": [
    "laboratorios = pd.DataFrame({'Laboratorios': ['LABGRAD_I', 'LABGRAD_II', 'LIACI', 'LABGEO', 'LIDEQ_II']})"
   ]
  },
  {
   "cell_type": "code",
   "execution_count": 75,
   "metadata": {
    "id": "2NmrG99xEo9l"
   },
   "outputs": [],
   "source": [
    "#auditorios = pd.DataFrame({'Auditorios':['José Lourenço Costa', 'Leopoldo Amaral', 'Magno Valente', 'Sala da Congregacao']})"
   ]
  },
  {
   "cell_type": "markdown",
   "metadata": {},
   "source": [
    "# Identifica as disciplinas que geralemnte são alocadas em laboratórios"
   ]
  },
  {
   "cell_type": "code",
   "execution_count": 77,
   "metadata": {
    "id": "zPEy7a2SYpWr"
   },
   "outputs": [],
   "source": [
    "disciplinas_laboratorio = ['ENG304', 'ENG305', 'ENGA52', 'ENGJ24', 'ENGJ32', 'ENGJ36', 'ENGJ39', 'ENGJ53', 'ENGJ56', 'ENGL73', 'ENGN87', 'ENG134', 'ENGA62', 'ENGJ27', 'ENGJ29', 'ENGJ33', 'ENGJ34', 'ENGJ37', 'ENGJ40', 'ENGJ58', 'ENGJ71', 'ENGL84', 'ENGM99']"
   ]
  },
  {
   "cell_type": "markdown",
   "metadata": {},
   "source": [
    "# Junta num dataframe os espaços utilizados para aulas"
   ]
  },
  {
   "cell_type": "code",
   "execution_count": 79,
   "metadata": {
    "colab": {
     "base_uri": "https://localhost:8080/"
    },
    "id": "e4D5zROdF7fb",
    "outputId": "16e8b596-401a-4b20-dc15-b742e6ad5ae8"
   },
   "outputs": [
    {
     "name": "stdout",
     "output_type": "stream",
     "text": [
      "      Salas Laboratorios\n",
      "0   30101.0          NaN\n",
      "1   30102.0          NaN\n",
      "2   30306.0          NaN\n",
      "3   40124.0          NaN\n",
      "4   50102.0          NaN\n",
      "5   50103.0          NaN\n",
      "6   50104.0          NaN\n",
      "7   60302.0          NaN\n",
      "8   60303.0          NaN\n",
      "9   60304.0          NaN\n",
      "10  70101.0          NaN\n",
      "11  70102.0          NaN\n",
      "12  70103.0          NaN\n",
      "13  70104.0          NaN\n",
      "14  70105.0          NaN\n",
      "15  70106.0          NaN\n",
      "16  70107.0          NaN\n",
      "17  70108.0          NaN\n",
      "18  70302.0          NaN\n",
      "19  70303.0          NaN\n",
      "20  70304.0          NaN\n",
      "21  70305.0          NaN\n",
      "22  70306.0          NaN\n",
      "23  70307.0          NaN\n",
      "24  80301.0          NaN\n",
      "25  80302.0          NaN\n",
      "26  80303.0          NaN\n",
      "27  80304.0          NaN\n",
      "28      NaN    LABGRAD_I\n",
      "29      NaN   LABGRAD_II\n",
      "30      NaN        LIACI\n",
      "31      NaN       LABGEO\n",
      "32      NaN     LIDEQ_II\n"
     ]
    }
   ],
   "source": [
    "espacos = pd.concat([salas, laboratorios]).reset_index(drop=True)\n",
    "print(espacos)"
   ]
  },
  {
   "cell_type": "markdown",
   "metadata": {},
   "source": [
    "# junta num dataframe as bases de dados referente a oferta de vagas em disciplinas do DETG"
   ]
  },
  {
   "cell_type": "code",
   "execution_count": 81,
   "metadata": {
    "id": "u2fOVjtT36cN"
   },
   "outputs": [],
   "source": [
    "detg = pd.concat([detg20191, detg20192, detg20201, detg20211, detg20212, detg20221, detg20222, detg20231, detg20232, detg20241], ignore_index=True)\n",
    "detg['vagas_ofertadas'] = detg['veteranos'] + detg['calouros']\n",
    "colunas = list(detg.columns)\n",
    "indice_preenchidas = colunas.index('preenchidas')\n",
    "colunas.insert(indice_preenchidas, colunas.pop(colunas.index('vagas_ofertadas')))\n",
    "detg = detg[colunas]"
   ]
  },
  {
   "cell_type": "code",
   "execution_count": 82,
   "metadata": {
    "id": "upXzDEaFsXLL"
   },
   "outputs": [],
   "source": [
    "detg = detg[colunas].drop(columns=['veteranos', 'calouros'])"
   ]
  },
  {
   "cell_type": "code",
   "execution_count": 83,
   "metadata": {
    "id": "YKY53SPpsf7U"
   },
   "outputs": [],
   "source": [
    "vagas_colegiado_disciplina = detg.groupby(['col_nm_colegiado', 'dis_nm_disciplina']).agg({\n",
    "    'vagas_ofertadas': 'sum',\n",
    "    'preenchidas': 'sum'\n",
    "}).reset_index()"
   ]
  },
  {
   "cell_type": "code",
   "execution_count": 84,
   "metadata": {
    "id": "9zAt3mB_wNHn"
   },
   "outputs": [],
   "source": [
    "vagas_colegiado = detg.groupby(['col_nm_colegiado']).agg({\n",
    "    'vagas_ofertadas': 'sum',\n",
    "    'preenchidas': 'sum'\n",
    "}).reset_index()\n"
   ]
  },
  {
   "cell_type": "markdown",
   "metadata": {},
   "source": [
    "# exibe a quantidade de vagas ofertadas e preenchidas em cada semestre"
   ]
  },
  {
   "cell_type": "code",
   "execution_count": 86,
   "metadata": {
    "colab": {
     "base_uri": "https://localhost:8080/",
     "height": 363
    },
    "id": "B5PSAR6zBbpc",
    "outputId": "d0e3567c-8937-42f4-d877-3550c1e5aa7f"
   },
   "outputs": [
    {
     "data": {
      "text/html": [
       "<div>\n",
       "<style scoped>\n",
       "    .dataframe tbody tr th:only-of-type {\n",
       "        vertical-align: middle;\n",
       "    }\n",
       "\n",
       "    .dataframe tbody tr th {\n",
       "        vertical-align: top;\n",
       "    }\n",
       "\n",
       "    .dataframe thead th {\n",
       "        text-align: right;\n",
       "    }\n",
       "</style>\n",
       "<table border=\"1\" class=\"dataframe\">\n",
       "  <thead>\n",
       "    <tr style=\"text-align: right;\">\n",
       "      <th></th>\n",
       "      <th>ofe_nu_per_letivo</th>\n",
       "      <th>vagas_ofertadas</th>\n",
       "      <th>preenchidas</th>\n",
       "    </tr>\n",
       "  </thead>\n",
       "  <tbody>\n",
       "    <tr>\n",
       "      <th>0</th>\n",
       "      <td>20191</td>\n",
       "      <td>2015</td>\n",
       "      <td>1241</td>\n",
       "    </tr>\n",
       "    <tr>\n",
       "      <th>1</th>\n",
       "      <td>20192</td>\n",
       "      <td>1819</td>\n",
       "      <td>1051</td>\n",
       "    </tr>\n",
       "    <tr>\n",
       "      <th>2</th>\n",
       "      <td>20201</td>\n",
       "      <td>1703</td>\n",
       "      <td>1050</td>\n",
       "    </tr>\n",
       "    <tr>\n",
       "      <th>3</th>\n",
       "      <td>20211</td>\n",
       "      <td>1336</td>\n",
       "      <td>847</td>\n",
       "    </tr>\n",
       "    <tr>\n",
       "      <th>4</th>\n",
       "      <td>20212</td>\n",
       "      <td>1608</td>\n",
       "      <td>904</td>\n",
       "    </tr>\n",
       "    <tr>\n",
       "      <th>5</th>\n",
       "      <td>20221</td>\n",
       "      <td>1597</td>\n",
       "      <td>1052</td>\n",
       "    </tr>\n",
       "    <tr>\n",
       "      <th>6</th>\n",
       "      <td>20222</td>\n",
       "      <td>1822</td>\n",
       "      <td>1277</td>\n",
       "    </tr>\n",
       "    <tr>\n",
       "      <th>7</th>\n",
       "      <td>20231</td>\n",
       "      <td>1737</td>\n",
       "      <td>1143</td>\n",
       "    </tr>\n",
       "    <tr>\n",
       "      <th>8</th>\n",
       "      <td>20232</td>\n",
       "      <td>1873</td>\n",
       "      <td>1098</td>\n",
       "    </tr>\n",
       "    <tr>\n",
       "      <th>9</th>\n",
       "      <td>20241</td>\n",
       "      <td>1915</td>\n",
       "      <td>1140</td>\n",
       "    </tr>\n",
       "  </tbody>\n",
       "</table>\n",
       "</div>"
      ],
      "text/plain": [
       "   ofe_nu_per_letivo  vagas_ofertadas  preenchidas\n",
       "0              20191             2015         1241\n",
       "1              20192             1819         1051\n",
       "2              20201             1703         1050\n",
       "3              20211             1336          847\n",
       "4              20212             1608          904\n",
       "5              20221             1597         1052\n",
       "6              20222             1822         1277\n",
       "7              20231             1737         1143\n",
       "8              20232             1873         1098\n",
       "9              20241             1915         1140"
      ]
     },
     "execution_count": 86,
     "metadata": {},
     "output_type": "execute_result"
    }
   ],
   "source": [
    "vagas_semestre = detg.groupby(['ofe_nu_per_letivo']).agg({\n",
    "    'vagas_ofertadas': 'sum',\n",
    "    'preenchidas': 'sum'\n",
    "}).reset_index()\n",
    "vagas_semestre.head(10)"
   ]
  },
  {
   "cell_type": "markdown",
   "metadata": {},
   "source": [
    "# exibe a quantidade total de turmas ofertadas para cada colegiado no período de 2019-1 a 2024-1"
   ]
  },
  {
   "cell_type": "code",
   "execution_count": 88,
   "metadata": {
    "colab": {
     "base_uri": "https://localhost:8080/"
    },
    "id": "dcqWrlMkAjmy",
    "outputId": "5f953fb8-f799-4e49-a4a2-555215008684"
   },
   "outputs": [
    {
     "name": "stdout",
     "output_type": "stream",
     "text": [
      "col_nm_colegiado\n",
      "Engenharia de Agrimensura e Cartográfica    358\n",
      "Transporte Terrestre - Noturno              268\n",
      "Interdisciplinar em Ciência e Tecno.-NOT    247\n",
      "Engenharia Civil                            213\n",
      "Interdisciplinar em Ciência e Tecnologia    169\n",
      "Engenharia Sanitária e Ambiental             49\n",
      "Engenharia de Minas                          43\n",
      "Interdisciplinar em Humanidades-Noturno      39\n",
      "ENG_170455_PAVIMENTAÇÃO                      35\n",
      "Interdisciplinar em Artes - Noturno          28\n",
      "Interdisciplinar em Saúde - Noturno          19\n",
      "ALUNO ESPECIAL - GRADUACAO                   16\n",
      "Engenharia de Produção - Noturno             13\n",
      "Interdisciplinar em Artes                    12\n",
      "Arquitetura e Urbanismo                      11\n",
      "Interdisciplinar em Humanidades               9\n",
      "Interdisciplinar em Saúde                     6\n",
      "Engenharia Química                            6\n",
      "Geografia                                     6\n",
      "Ciências Biológicas                           6\n",
      "Geologia                                      5\n",
      "Engenharia Mecânica                           4\n",
      "Geografia - Noturno                           4\n",
      "Oceanografia                                  3\n",
      "Arquitetura e Urbanismo- Noturno              3\n",
      "Pedagogia                                     3\n",
      "Estatística                                   3\n",
      "Psicologia                                    3\n",
      "Pedagogia - Noturno                           3\n",
      "Artes Visuais                                 2\n",
      "Engenharia da Computação - Noturno            2\n",
      "Saúde Coletiva - Noturno                      2\n",
      "Enfermagem                                    2\n",
      "Geofísica                                     2\n",
      "Comunicação                                   2\n",
      "Arquivologia - Noturno                        1\n",
      "Interdisci. em Ciênc., Tecno. e Inovação      1\n",
      "Computação - Noturno                          1\n",
      "Arquivologia                                  1\n",
      "Ciências Sociais                              1\n",
      "Desenho Industrial                            1\n",
      "Terapia Ocupacional                           1\n",
      "História - Noturno                            1\n",
      "Eng.de Controle e Automação de Processos      1\n",
      "Serviço Social                                1\n",
      "Name: count, dtype: int64\n"
     ]
    }
   ],
   "source": [
    "contagem_todos = detg['col_nm_colegiado'].value_counts()\n",
    "print(contagem_todos)"
   ]
  },
  {
   "cell_type": "markdown",
   "metadata": {},
   "source": [
    "# grava num dataframe as bases de dados referente a oferta de vagas em disciplinas do DETG"
   ]
  },
  {
   "cell_type": "code",
   "execution_count": 90,
   "metadata": {
    "id": "uspeu4F24WqP"
   },
   "outputs": [],
   "source": [
    "detg.to_excel('bases/oferta_20191_a_2024_1_DETG.xlsx', index=False)\n"
   ]
  },
  {
   "cell_type": "markdown",
   "metadata": {},
   "source": [
    "# identifica quais cursos estão lotados na Escola Politécnica"
   ]
  },
  {
   "cell_type": "code",
   "execution_count": 92,
   "metadata": {
    "id": "lfsUfxmjGyy8"
   },
   "outputs": [],
   "source": [
    "cursos_epufba = [102, 103, 104, 105, 106, 107, 149, 185, 186, 188, 194, 197]"
   ]
  },
  {
   "cell_type": "markdown",
   "metadata": {},
   "source": [
    "# identifica quais cursos de unidades diferentes da EPUFBA solicitaram disciplinas para o DETG no período de 2019-1 a 2024-1"
   ]
  },
  {
   "cell_type": "code",
   "execution_count": 94,
   "metadata": {
    "colab": {
     "base_uri": "https://localhost:8080/"
    },
    "id": "uSqH8drEG8J9",
    "outputId": "7b5e2e86-0448-47ef-e22a-d9952745ae56"
   },
   "outputs": [
    {
     "name": "stdout",
     "output_type": "stream",
     "text": [
      "[189 580 190   1 387 515 202 608 286 317 327 196 226 307 312 313 385 116\n",
      " 109 182 187 118 101 881 381 501 203 110 283 306 512 883 386 119 325]\n"
     ]
    }
   ],
   "source": [
    "cursos_outras_unidades = detg.loc[~detg['ofe_cd_colegiado'].isin(cursos_epufba), 'ofe_cd_colegiado'].unique()\n",
    "print(cursos_outras_unidades)"
   ]
  },
  {
   "cell_type": "code",
   "execution_count": 95,
   "metadata": {
    "id": "fTHXUDacHF7o"
   },
   "outputs": [],
   "source": [
    "detg['cursos_epufba'] = detg['ofe_cd_colegiado'].isin(cursos_epufba)"
   ]
  },
  {
   "cell_type": "code",
   "execution_count": 96,
   "metadata": {
    "id": "PnexrgY6Ipd2"
   },
   "outputs": [],
   "source": [
    "detg['cursos_outras_unidades'] = detg['ofe_cd_colegiado'].isin(cursos_outras_unidades)\n"
   ]
  },
  {
   "cell_type": "code",
   "execution_count": 97,
   "metadata": {
    "colab": {
     "base_uri": "https://localhost:8080/",
     "height": 363
    },
    "id": "AcXa7JhVHBuz",
    "outputId": "0c2aa7c7-86d2-46da-c9cd-466de8c1f506"
   },
   "outputs": [
    {
     "data": {
      "text/html": [
       "<div>\n",
       "<style scoped>\n",
       "    .dataframe tbody tr th:only-of-type {\n",
       "        vertical-align: middle;\n",
       "    }\n",
       "\n",
       "    .dataframe tbody tr th {\n",
       "        vertical-align: top;\n",
       "    }\n",
       "\n",
       "    .dataframe thead th {\n",
       "        text-align: right;\n",
       "    }\n",
       "</style>\n",
       "<table border=\"1\" class=\"dataframe\">\n",
       "  <thead>\n",
       "    <tr style=\"text-align: right;\">\n",
       "      <th></th>\n",
       "      <th>ofe_nu_per_letivo</th>\n",
       "      <th>cursos_epufba</th>\n",
       "      <th>vagas_ofertadas</th>\n",
       "      <th>preenchidas</th>\n",
       "      <th>saldo</th>\n",
       "    </tr>\n",
       "  </thead>\n",
       "  <tbody>\n",
       "    <tr>\n",
       "      <th>0</th>\n",
       "      <td>20191</td>\n",
       "      <td>False</td>\n",
       "      <td>285</td>\n",
       "      <td>194</td>\n",
       "      <td>91</td>\n",
       "    </tr>\n",
       "    <tr>\n",
       "      <th>1</th>\n",
       "      <td>20191</td>\n",
       "      <td>True</td>\n",
       "      <td>1730</td>\n",
       "      <td>1047</td>\n",
       "      <td>683</td>\n",
       "    </tr>\n",
       "    <tr>\n",
       "      <th>2</th>\n",
       "      <td>20192</td>\n",
       "      <td>False</td>\n",
       "      <td>434</td>\n",
       "      <td>210</td>\n",
       "      <td>224</td>\n",
       "    </tr>\n",
       "    <tr>\n",
       "      <th>3</th>\n",
       "      <td>20192</td>\n",
       "      <td>True</td>\n",
       "      <td>1385</td>\n",
       "      <td>841</td>\n",
       "      <td>544</td>\n",
       "    </tr>\n",
       "    <tr>\n",
       "      <th>4</th>\n",
       "      <td>20201</td>\n",
       "      <td>False</td>\n",
       "      <td>182</td>\n",
       "      <td>109</td>\n",
       "      <td>73</td>\n",
       "    </tr>\n",
       "    <tr>\n",
       "      <th>5</th>\n",
       "      <td>20201</td>\n",
       "      <td>True</td>\n",
       "      <td>1521</td>\n",
       "      <td>941</td>\n",
       "      <td>580</td>\n",
       "    </tr>\n",
       "    <tr>\n",
       "      <th>6</th>\n",
       "      <td>20211</td>\n",
       "      <td>False</td>\n",
       "      <td>124</td>\n",
       "      <td>81</td>\n",
       "      <td>43</td>\n",
       "    </tr>\n",
       "    <tr>\n",
       "      <th>7</th>\n",
       "      <td>20211</td>\n",
       "      <td>True</td>\n",
       "      <td>1212</td>\n",
       "      <td>766</td>\n",
       "      <td>446</td>\n",
       "    </tr>\n",
       "    <tr>\n",
       "      <th>8</th>\n",
       "      <td>20212</td>\n",
       "      <td>False</td>\n",
       "      <td>121</td>\n",
       "      <td>42</td>\n",
       "      <td>79</td>\n",
       "    </tr>\n",
       "    <tr>\n",
       "      <th>9</th>\n",
       "      <td>20212</td>\n",
       "      <td>True</td>\n",
       "      <td>1487</td>\n",
       "      <td>862</td>\n",
       "      <td>625</td>\n",
       "    </tr>\n",
       "  </tbody>\n",
       "</table>\n",
       "</div>"
      ],
      "text/plain": [
       "   ofe_nu_per_letivo  cursos_epufba  vagas_ofertadas  preenchidas  saldo\n",
       "0              20191          False              285          194     91\n",
       "1              20191           True             1730         1047    683\n",
       "2              20192          False              434          210    224\n",
       "3              20192           True             1385          841    544\n",
       "4              20201          False              182          109     73\n",
       "5              20201           True             1521          941    580\n",
       "6              20211          False              124           81     43\n",
       "7              20211           True             1212          766    446\n",
       "8              20212          False              121           42     79\n",
       "9              20212           True             1487          862    625"
      ]
     },
     "execution_count": 97,
     "metadata": {},
     "output_type": "execute_result"
    }
   ],
   "source": [
    "vagas_semestre_cursos = detg.groupby(['ofe_nu_per_letivo', 'cursos_epufba']).agg({\n",
    "    'vagas_ofertadas': 'sum',\n",
    "    'preenchidas': 'sum',\n",
    "    'saldo': 'sum'\n",
    "}).reset_index()\n",
    "vagas_semestre_cursos.head(10)"
   ]
  },
  {
   "cell_type": "code",
   "execution_count": 98,
   "metadata": {
    "colab": {
     "base_uri": "https://localhost:8080/",
     "height": 348
    },
    "id": "uhvP5F8pJmTR",
    "outputId": "b2184498-60f9-4138-8d8d-f0e89c503947"
   },
   "outputs": [
    {
     "data": {
      "text/html": [
       "<div>\n",
       "<style scoped>\n",
       "    .dataframe tbody tr th:only-of-type {\n",
       "        vertical-align: middle;\n",
       "    }\n",
       "\n",
       "    .dataframe tbody tr th {\n",
       "        vertical-align: top;\n",
       "    }\n",
       "\n",
       "    .dataframe thead th {\n",
       "        text-align: right;\n",
       "    }\n",
       "</style>\n",
       "<table border=\"1\" class=\"dataframe\">\n",
       "  <thead>\n",
       "    <tr style=\"text-align: right;\">\n",
       "      <th></th>\n",
       "      <th>ofe_nu_per_letivo</th>\n",
       "      <th>dis_cd_departamento</th>\n",
       "      <th>dis_cd_disciplina</th>\n",
       "      <th>dis_nu_per_inicial</th>\n",
       "      <th>dis_nm_disciplina</th>\n",
       "      <th>ofe_cd_turma</th>\n",
       "      <th>ofe_cd_colegiado</th>\n",
       "      <th>col_nm_colegiado</th>\n",
       "      <th>vagas_ofertadas</th>\n",
       "      <th>preenchidas</th>\n",
       "      <th>saldo</th>\n",
       "      <th>nivel_disc</th>\n",
       "      <th>cd_atividade</th>\n",
       "      <th>nm_atividade</th>\n",
       "      <th>cursos_epufba</th>\n",
       "      <th>cursos_outras_unidades</th>\n",
       "    </tr>\n",
       "  </thead>\n",
       "  <tbody>\n",
       "    <tr>\n",
       "      <th>0</th>\n",
       "      <td>20191</td>\n",
       "      <td>ENG11</td>\n",
       "      <td>ENG006</td>\n",
       "      <td>20152</td>\n",
       "      <td>ENGENHARIA  E SEGURANÇA  DE TRÁFEGO</td>\n",
       "      <td>10100</td>\n",
       "      <td>102</td>\n",
       "      <td>Engenharia Civil</td>\n",
       "      <td>30</td>\n",
       "      <td>27</td>\n",
       "      <td>3</td>\n",
       "      <td>Graduação</td>\n",
       "      <td>NaN</td>\n",
       "      <td>NaN</td>\n",
       "      <td>True</td>\n",
       "      <td>False</td>\n",
       "    </tr>\n",
       "    <tr>\n",
       "      <th>1</th>\n",
       "      <td>20191</td>\n",
       "      <td>ENG11</td>\n",
       "      <td>ENG028</td>\n",
       "      <td>20152</td>\n",
       "      <td>TRANSPORTE PÚBLICO</td>\n",
       "      <td>10100</td>\n",
       "      <td>102</td>\n",
       "      <td>Engenharia Civil</td>\n",
       "      <td>25</td>\n",
       "      <td>11</td>\n",
       "      <td>14</td>\n",
       "      <td>Graduação</td>\n",
       "      <td>NaN</td>\n",
       "      <td>NaN</td>\n",
       "      <td>True</td>\n",
       "      <td>False</td>\n",
       "    </tr>\n",
       "    <tr>\n",
       "      <th>2</th>\n",
       "      <td>20191</td>\n",
       "      <td>ENG11</td>\n",
       "      <td>ENG028</td>\n",
       "      <td>20152</td>\n",
       "      <td>TRANSPORTE PÚBLICO</td>\n",
       "      <td>10100</td>\n",
       "      <td>189</td>\n",
       "      <td>Interdisciplinar em Ciência e Tecno.-NOT</td>\n",
       "      <td>2</td>\n",
       "      <td>2</td>\n",
       "      <td>0</td>\n",
       "      <td>Graduação</td>\n",
       "      <td>NaN</td>\n",
       "      <td>NaN</td>\n",
       "      <td>False</td>\n",
       "      <td>True</td>\n",
       "    </tr>\n",
       "    <tr>\n",
       "      <th>3</th>\n",
       "      <td>20191</td>\n",
       "      <td>ENG11</td>\n",
       "      <td>ENG028</td>\n",
       "      <td>20152</td>\n",
       "      <td>TRANSPORTE PÚBLICO</td>\n",
       "      <td>10100</td>\n",
       "      <td>197</td>\n",
       "      <td>Transporte Terrestre - Noturno</td>\n",
       "      <td>2</td>\n",
       "      <td>0</td>\n",
       "      <td>2</td>\n",
       "      <td>Graduação</td>\n",
       "      <td>NaN</td>\n",
       "      <td>NaN</td>\n",
       "      <td>True</td>\n",
       "      <td>False</td>\n",
       "    </tr>\n",
       "    <tr>\n",
       "      <th>4</th>\n",
       "      <td>20191</td>\n",
       "      <td>ENG11</td>\n",
       "      <td>ENG028</td>\n",
       "      <td>20152</td>\n",
       "      <td>TRANSPORTE PÚBLICO</td>\n",
       "      <td>10100</td>\n",
       "      <td>580</td>\n",
       "      <td>Interdisciplinar em Artes - Noturno</td>\n",
       "      <td>1</td>\n",
       "      <td>1</td>\n",
       "      <td>0</td>\n",
       "      <td>Graduação</td>\n",
       "      <td>NaN</td>\n",
       "      <td>NaN</td>\n",
       "      <td>False</td>\n",
       "      <td>True</td>\n",
       "    </tr>\n",
       "  </tbody>\n",
       "</table>\n",
       "</div>"
      ],
      "text/plain": [
       "   ofe_nu_per_letivo dis_cd_departamento dis_cd_disciplina  \\\n",
       "0              20191               ENG11            ENG006   \n",
       "1              20191               ENG11            ENG028   \n",
       "2              20191               ENG11            ENG028   \n",
       "3              20191               ENG11            ENG028   \n",
       "4              20191               ENG11            ENG028   \n",
       "\n",
       "   dis_nu_per_inicial                    dis_nm_disciplina  ofe_cd_turma  \\\n",
       "0               20152  ENGENHARIA  E SEGURANÇA  DE TRÁFEGO         10100   \n",
       "1               20152                   TRANSPORTE PÚBLICO         10100   \n",
       "2               20152                   TRANSPORTE PÚBLICO         10100   \n",
       "3               20152                   TRANSPORTE PÚBLICO         10100   \n",
       "4               20152                   TRANSPORTE PÚBLICO         10100   \n",
       "\n",
       "   ofe_cd_colegiado                          col_nm_colegiado  \\\n",
       "0               102                          Engenharia Civil   \n",
       "1               102                          Engenharia Civil   \n",
       "2               189  Interdisciplinar em Ciência e Tecno.-NOT   \n",
       "3               197            Transporte Terrestre - Noturno   \n",
       "4               580       Interdisciplinar em Artes - Noturno   \n",
       "\n",
       "   vagas_ofertadas  preenchidas  saldo nivel_disc  cd_atividade nm_atividade  \\\n",
       "0               30           27      3  Graduação           NaN          NaN   \n",
       "1               25           11     14  Graduação           NaN          NaN   \n",
       "2                2            2      0  Graduação           NaN          NaN   \n",
       "3                2            0      2  Graduação           NaN          NaN   \n",
       "4                1            1      0  Graduação           NaN          NaN   \n",
       "\n",
       "   cursos_epufba  cursos_outras_unidades  \n",
       "0           True                   False  \n",
       "1           True                   False  \n",
       "2          False                    True  \n",
       "3           True                   False  \n",
       "4          False                    True  "
      ]
     },
     "execution_count": 98,
     "metadata": {},
     "output_type": "execute_result"
    }
   ],
   "source": [
    "detg.head()"
   ]
  },
  {
   "cell_type": "code",
   "execution_count": 99,
   "metadata": {
    "id": "tprmzXcXJydr"
   },
   "outputs": [],
   "source": [
    "#detg.drop(columns=['curso_epufba', 'cursos_outras_unidades'], inplace=True)"
   ]
  },
  {
   "cell_type": "code",
   "execution_count": 100,
   "metadata": {
    "colab": {
     "base_uri": "https://localhost:8080/"
    },
    "id": "wbYaJCvWLHtB",
    "outputId": "fd702b89-6be4-4754-8f81-9a5b2aeb73bb"
   },
   "outputs": [
    {
     "name": "stdout",
     "output_type": "stream",
     "text": [
      "                           col_nm_colegiado  vagas_ofertadas  preenchidas\n",
      "0  Eng.de Controle e Automação de Processos                1            1\n",
      "1                          Engenharia Civil             3959         2844\n",
      "2                       Engenharia Mecânica                6            5\n",
      "3                        Engenharia Química                9            7\n",
      "4          Engenharia Sanitária e Ambiental              375          252\n",
      "5        Engenharia da Computação - Noturno                2            2\n",
      "6  Engenharia de Agrimensura e Cartográfica             3207         1925\n",
      "7                       Engenharia de Minas              283          160\n",
      "8          Engenharia de Produção - Noturno              198          133\n",
      "9            Transporte Terrestre - Noturno             6720         3870\n"
     ]
    }
   ],
   "source": [
    "vagas_cursos_epufba = detg[detg['cursos_epufba']].groupby(['col_nm_colegiado']).agg({\n",
    "    'vagas_ofertadas': 'sum',\n",
    "    'preenchidas': 'sum'\n",
    "}).reset_index()\n",
    "\n",
    "print(vagas_cursos_epufba)"
   ]
  },
  {
   "cell_type": "code",
   "execution_count": 101,
   "metadata": {
    "colab": {
     "base_uri": "https://localhost:8080/"
    },
    "id": "dR0mcV2OPiSP",
    "outputId": "bd043c97-08b7-4af6-bce3-1e7711ecf94d"
   },
   "outputs": [
    {
     "name": "stdout",
     "output_type": "stream",
     "text": [
      "   ofe_nu_per_letivo  total_disciplinas_turmas  total_laboratorios  \\\n",
      "0              20191                        83                  67   \n",
      "1              20192                        76                  67   \n",
      "2              20201                        72                  58   \n",
      "3              20211                        71                  33   \n",
      "4              20212                        75                  42   \n",
      "5              20221                        83                  73   \n",
      "6              20222                        85                  52   \n",
      "7              20231                        85                  43   \n",
      "8              20232                        76                  55   \n",
      "9              20241                        74                  60   \n",
      "\n",
      "   total_salas  \n",
      "0          110  \n",
      "1          109  \n",
      "2          104  \n",
      "3           86  \n",
      "4           98  \n",
      "5          138  \n",
      "6          124  \n",
      "7          106  \n",
      "8           85  \n",
      "9           96  \n"
     ]
    }
   ],
   "source": [
    "# Isso está errado, é necessario corrigir\n",
    "\n",
    "# Criar uma nova coluna que combine dis_cd_disciplina e ofe_cd_turma\n",
    "detg['disciplina_turma'] = detg['dis_cd_disciplina'].astype(str) + '_' + detg['ofe_cd_turma'].astype(str)\n",
    "\n",
    "# Agrupar por ofe_nu_per_letivo e contar combinações únicas de disciplina e turma\n",
    "total_disciplinas = detg.groupby('ofe_nu_per_letivo')['disciplina_turma'].nunique().reset_index()\n",
    "\n",
    "# Renomear a coluna\n",
    "total_disciplinas.rename(columns={'disciplina_turma': 'total_disciplinas_turmas'}, inplace=True)\n",
    "\n",
    "# Contar total de laboratórios e salas por ofe_nu_per_letivo\n",
    "detg['no_laboratorio'] = detg['dis_cd_disciplina'].isin(disciplinas_laboratorio)\n",
    "total_laboratorios = detg[detg['no_laboratorio']].groupby('ofe_nu_per_letivo').size().reset_index(name='total_laboratorios')\n",
    "total_salas = detg[~detg['no_laboratorio']].groupby('ofe_nu_per_letivo').size().reset_index(name='total_salas')\n",
    "\n",
    "# Combinar os totais de laboratórios e salas com total_disciplinas\n",
    "total_disciplinas = total_disciplinas.merge(total_laboratorios, on='ofe_nu_per_letivo', how='left')\n",
    "total_disciplinas = total_disciplinas.merge(total_salas, on='ofe_nu_per_letivo', how='left')\n",
    "\n",
    "print(total_disciplinas)"
   ]
  },
  {
   "cell_type": "code",
   "execution_count": 102,
   "metadata": {
    "colab": {
     "base_uri": "https://localhost:8080/"
    },
    "id": "omGoEsOZzg-Y",
    "outputId": "ee0c7ad9-c9de-4368-94c8-9b9153ce08bd"
   },
   "outputs": [
    {
     "name": "stdout",
     "output_type": "stream",
     "text": [
      "                           col_nm_colegiado  vagas_ofertadas  preenchidas\n",
      "9            Transporte Terrestre - Noturno             6720         3870\n",
      "1                          Engenharia Civil             3959         2844\n",
      "6  Engenharia de Agrimensura e Cartográfica             3207         1925\n",
      "4          Engenharia Sanitária e Ambiental              375          252\n",
      "7                       Engenharia de Minas              283          160\n",
      "8          Engenharia de Produção - Noturno              198          133\n",
      "3                        Engenharia Química                9            7\n",
      "2                       Engenharia Mecânica                6            5\n",
      "5        Engenharia da Computação - Noturno                2            2\n",
      "0  Eng.de Controle e Automação de Processos                1            1\n"
     ]
    }
   ],
   "source": [
    "vagas_cursos_epufba = vagas_cursos_epufba.sort_values(by='vagas_ofertadas', ascending=False)\n",
    "print(vagas_cursos_epufba)"
   ]
  }
 ],
 "metadata": {
  "colab": {
   "provenance": []
  },
  "kernelspec": {
   "display_name": "Python 3 (ipykernel)",
   "language": "python",
   "name": "python3"
  },
  "language_info": {
   "codemirror_mode": {
    "name": "ipython",
    "version": 3
   },
   "file_extension": ".py",
   "mimetype": "text/x-python",
   "name": "python",
   "nbconvert_exporter": "python",
   "pygments_lexer": "ipython3",
   "version": "3.11.7"
  }
 },
 "nbformat": 4,
 "nbformat_minor": 4
}
